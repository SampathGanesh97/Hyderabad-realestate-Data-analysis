{
 "cells": [
  {
   "cell_type": "code",
   "execution_count": 2,
   "id": "752e3f30",
   "metadata": {},
   "outputs": [],
   "source": [
    "import requests\n",
    "from bs4 import BeautifulSoup\n",
    "import pandas as pd\n",
    "import matplotlib.pyplot as plt\n",
    "import seaborn as sns\n",
    "%matplotlib inline"
   ]
  },
  {
   "cell_type": "code",
   "execution_count": 68,
   "id": "388ed5d8",
   "metadata": {},
   "outputs": [
    {
     "name": "stdout",
     "output_type": "stream",
     "text": [
      "                Locality  Price_per_sft   Area             Property_Type\n",
      "0      Gundlapochampally  4,200 / sq ft  1571   3 BHK Apartment for sale\n",
      "1               Ameenpur  5,400 / sq ft  1065   2 BHK Apartment for sale\n",
      "2             Patancheru  7,700 / sq ft  1930       4 BHK Villa for sale\n",
      "3                Miyapur  6,500 / sq ft  1967   3 BHK Apartment for sale\n",
      "4            Uppal Kalan  6,104 / sq ft  1065   2 BHK Apartment for sale\n",
      "...                  ...            ...    ...                       ...\n",
      "16975           Ameenpur  4,800 / sq ft  1600   3 BHK Apartment for sale\n",
      "16976           Ameenpur  4,800 / sq ft  1150   2 BHK Apartment for sale\n",
      "16977           Ameenpur  4,800 / sq ft  1150   2 BHK Apartment for sale\n",
      "16978           Ameenpur  4,800 / sq ft  1600   3 BHK Apartment for sale\n",
      "16979           Ameenpur  4,800 / sq ft  1600   3 BHK Apartment for sale\n",
      "\n",
      "[16980 rows x 4 columns]\n"
     ]
    }
   ],
   "source": [
    "import requests\n",
    "from bs4 import BeautifulSoup\n",
    "import pandas as pd\n",
    "\n",
    "# Define the base URL\n",
    "base_url = 'https://www.makaan.com/listings?propertyType=apartment,villa,independent-house&newOrResale=new&furnished=unfurnished&listingType=buy&pageType=LISTINGS_PROPERTY_URLS&cityName=Hyderabad&cityId=12&templateId=MAKAAN_CITY_LISTING_BUY'\n",
    "#The above url has the property details of Unfurnished- Apartment/Villa/Independent Houses\n",
    "\n",
    "# Define the list to store locality data\n",
    "locality_extracted = []\n",
    "price_per_sft_extracted=[]\n",
    "area_sft_extracted=[]\n",
    "property_type_extracted = []\n",
    "\n",
    "\n",
    "# Loop through the specified page numbers\n",
    "for page_number in range(1,850):\n",
    "    # Construct the URL for the current page\n",
    "    url = f'{base_url}&page={page_number}'\n",
    "    \n",
    "    # Send an HTTP GET request to the URL\n",
    "    response = requests.get(url)\n",
    "    \n",
    "    # Check if the request was successful (status code 200)\n",
    "    if response.status_code == 200:\n",
    "        # Parse the HTML content of the page using BeautifulSoup\n",
    "        soup = BeautifulSoup(response.text, 'html.parser')\n",
    "        \n",
    "        # Find all required elements \n",
    "        locality_on_current_page = soup.find_all('span', itemprop='addressLocality')\n",
    "        price_per_sft_on_current_page=soup.find_all('td', class_='lbl rate')\n",
    "        area_sft_on_current_page=soup.find_all('td', class_='size')\n",
    "        \n",
    "        # Extend the extracted lists with the data from the current page\n",
    "        locality_extracted.extend(locality_on_current_page)\n",
    "        price_per_sft_extracted.extend(price_per_sft_on_current_page)\n",
    "        area_sft_extracted.extend(area_sft_on_current_page)\n",
    "        \n",
    "         # Find all <a> elements with the specified class and itemprop='name' to extract property type\n",
    "        property_type_elements = soup.find_all('a', class_='typelink', itemprop='url')\n",
    "        \n",
    "        # Extract the property type text and append it to the property_type_extracted list\n",
    "        property_type_extracted.extend([element.find('meta', itemprop='name')['content'] for element in property_type_elements])\n",
    "        \n",
    "    else:\n",
    "        print(f'Failed to retrieve data for page {page_number}. Status code:', response.status_code)\n",
    "\n",
    "# Create a DataFrame from the extracted locality data\n",
    "df = pd.DataFrame({'Locality': [i.text for i in locality_extracted],\n",
    "                   'Price_per_sft': [k.text for k in price_per_sft_extracted],\n",
    "                   'Area' : [j.text for j in area_sft_extracted ],\n",
    "                   'Property_Type': property_type_extracted})\n",
    "\n",
    "# Print the DataFrame\n",
    "print(df)\n"
   ]
  },
  {
   "cell_type": "code",
   "execution_count": 69,
   "id": "26084f5e",
   "metadata": {},
   "outputs": [],
   "source": [
    "df.to_csv('Hyd_real_estate.csv')"
   ]
  },
  {
   "cell_type": "code",
   "execution_count": 3,
   "id": "73aa4733",
   "metadata": {},
   "outputs": [],
   "source": [
    "df2=pd.read_csv('Hyd_real_estate.csv')"
   ]
  },
  {
   "cell_type": "code",
   "execution_count": 4,
   "id": "8cd5b9c1",
   "metadata": {},
   "outputs": [
    {
     "data": {
      "text/html": [
       "<div>\n",
       "<style scoped>\n",
       "    .dataframe tbody tr th:only-of-type {\n",
       "        vertical-align: middle;\n",
       "    }\n",
       "\n",
       "    .dataframe tbody tr th {\n",
       "        vertical-align: top;\n",
       "    }\n",
       "\n",
       "    .dataframe thead th {\n",
       "        text-align: right;\n",
       "    }\n",
       "</style>\n",
       "<table border=\"1\" class=\"dataframe\">\n",
       "  <thead>\n",
       "    <tr style=\"text-align: right;\">\n",
       "      <th></th>\n",
       "      <th>Unnamed: 0</th>\n",
       "      <th>Locality</th>\n",
       "      <th>Price_per_sft</th>\n",
       "      <th>Area</th>\n",
       "      <th>Property_Type</th>\n",
       "    </tr>\n",
       "  </thead>\n",
       "  <tbody>\n",
       "    <tr>\n",
       "      <th>0</th>\n",
       "      <td>0</td>\n",
       "      <td>Gundlapochampally</td>\n",
       "      <td>4,200 / sq ft</td>\n",
       "      <td>1571</td>\n",
       "      <td>3 BHK Apartment for sale</td>\n",
       "    </tr>\n",
       "    <tr>\n",
       "      <th>1</th>\n",
       "      <td>1</td>\n",
       "      <td>Ameenpur</td>\n",
       "      <td>5,400 / sq ft</td>\n",
       "      <td>1065</td>\n",
       "      <td>2 BHK Apartment for sale</td>\n",
       "    </tr>\n",
       "    <tr>\n",
       "      <th>2</th>\n",
       "      <td>2</td>\n",
       "      <td>Patancheru</td>\n",
       "      <td>7,700 / sq ft</td>\n",
       "      <td>1930</td>\n",
       "      <td>4 BHK Villa for sale</td>\n",
       "    </tr>\n",
       "    <tr>\n",
       "      <th>3</th>\n",
       "      <td>3</td>\n",
       "      <td>Miyapur</td>\n",
       "      <td>6,500 / sq ft</td>\n",
       "      <td>1967</td>\n",
       "      <td>3 BHK Apartment for sale</td>\n",
       "    </tr>\n",
       "    <tr>\n",
       "      <th>4</th>\n",
       "      <td>4</td>\n",
       "      <td>Uppal Kalan</td>\n",
       "      <td>6,104 / sq ft</td>\n",
       "      <td>1065</td>\n",
       "      <td>2 BHK Apartment for sale</td>\n",
       "    </tr>\n",
       "  </tbody>\n",
       "</table>\n",
       "</div>"
      ],
      "text/plain": [
       "   Unnamed: 0           Locality  Price_per_sft  Area   \n",
       "0           0  Gundlapochampally  4,200 / sq ft  1571  \\\n",
       "1           1           Ameenpur  5,400 / sq ft  1065   \n",
       "2           2         Patancheru  7,700 / sq ft  1930   \n",
       "3           3            Miyapur  6,500 / sq ft  1967   \n",
       "4           4        Uppal Kalan  6,104 / sq ft  1065   \n",
       "\n",
       "              Property_Type  \n",
       "0  3 BHK Apartment for sale  \n",
       "1  2 BHK Apartment for sale  \n",
       "2      4 BHK Villa for sale  \n",
       "3  3 BHK Apartment for sale  \n",
       "4  2 BHK Apartment for sale  "
      ]
     },
     "execution_count": 4,
     "metadata": {},
     "output_type": "execute_result"
    }
   ],
   "source": [
    "df2.head()"
   ]
  },
  {
   "cell_type": "code",
   "execution_count": 5,
   "id": "3d95df3e",
   "metadata": {},
   "outputs": [
    {
     "data": {
      "text/plain": [
       "count             16980\n",
       "unique             2953\n",
       "top       4,999 / sq ft\n",
       "freq                551\n",
       "Name: Price_per_sft, dtype: object"
      ]
     },
     "execution_count": 5,
     "metadata": {},
     "output_type": "execute_result"
    }
   ],
   "source": [
    "df2['Price_per_sft'].describe()"
   ]
  },
  {
   "cell_type": "code",
   "execution_count": 6,
   "id": "c1a1dbbe",
   "metadata": {},
   "outputs": [],
   "source": [
    "df2['Price_per_sft'] = df2['Price_per_sft'].str.replace(r'[^0-9]','',regex=True)"
   ]
  },
  {
   "cell_type": "code",
   "execution_count": 7,
   "id": "9383092a",
   "metadata": {},
   "outputs": [
    {
     "data": {
      "text/html": [
       "<div>\n",
       "<style scoped>\n",
       "    .dataframe tbody tr th:only-of-type {\n",
       "        vertical-align: middle;\n",
       "    }\n",
       "\n",
       "    .dataframe tbody tr th {\n",
       "        vertical-align: top;\n",
       "    }\n",
       "\n",
       "    .dataframe thead th {\n",
       "        text-align: right;\n",
       "    }\n",
       "</style>\n",
       "<table border=\"1\" class=\"dataframe\">\n",
       "  <thead>\n",
       "    <tr style=\"text-align: right;\">\n",
       "      <th></th>\n",
       "      <th>Unnamed: 0</th>\n",
       "      <th>Locality</th>\n",
       "      <th>Price_per_sft</th>\n",
       "      <th>Area</th>\n",
       "      <th>Property_Type</th>\n",
       "    </tr>\n",
       "  </thead>\n",
       "  <tbody>\n",
       "    <tr>\n",
       "      <th>0</th>\n",
       "      <td>0</td>\n",
       "      <td>Gundlapochampally</td>\n",
       "      <td>4200</td>\n",
       "      <td>1571</td>\n",
       "      <td>3 BHK Apartment for sale</td>\n",
       "    </tr>\n",
       "    <tr>\n",
       "      <th>1</th>\n",
       "      <td>1</td>\n",
       "      <td>Ameenpur</td>\n",
       "      <td>5400</td>\n",
       "      <td>1065</td>\n",
       "      <td>2 BHK Apartment for sale</td>\n",
       "    </tr>\n",
       "    <tr>\n",
       "      <th>2</th>\n",
       "      <td>2</td>\n",
       "      <td>Patancheru</td>\n",
       "      <td>7700</td>\n",
       "      <td>1930</td>\n",
       "      <td>4 BHK Villa for sale</td>\n",
       "    </tr>\n",
       "    <tr>\n",
       "      <th>3</th>\n",
       "      <td>3</td>\n",
       "      <td>Miyapur</td>\n",
       "      <td>6500</td>\n",
       "      <td>1967</td>\n",
       "      <td>3 BHK Apartment for sale</td>\n",
       "    </tr>\n",
       "    <tr>\n",
       "      <th>4</th>\n",
       "      <td>4</td>\n",
       "      <td>Uppal Kalan</td>\n",
       "      <td>6104</td>\n",
       "      <td>1065</td>\n",
       "      <td>2 BHK Apartment for sale</td>\n",
       "    </tr>\n",
       "  </tbody>\n",
       "</table>\n",
       "</div>"
      ],
      "text/plain": [
       "   Unnamed: 0           Locality Price_per_sft  Area             Property_Type\n",
       "0           0  Gundlapochampally          4200  1571  3 BHK Apartment for sale\n",
       "1           1           Ameenpur          5400  1065  2 BHK Apartment for sale\n",
       "2           2         Patancheru          7700  1930      4 BHK Villa for sale\n",
       "3           3            Miyapur          6500  1967  3 BHK Apartment for sale\n",
       "4           4        Uppal Kalan          6104  1065  2 BHK Apartment for sale"
      ]
     },
     "execution_count": 7,
     "metadata": {},
     "output_type": "execute_result"
    }
   ],
   "source": [
    "df2.head()"
   ]
  },
  {
   "cell_type": "code",
   "execution_count": 8,
   "id": "98b348e4",
   "metadata": {},
   "outputs": [],
   "source": [
    "df2['Price_per_sft']=pd.to_numeric(df2['Price_per_sft'])"
   ]
  },
  {
   "cell_type": "code",
   "execution_count": 9,
   "id": "724a740a",
   "metadata": {},
   "outputs": [
    {
     "data": {
      "text/plain": [
       "count                        16980\n",
       "unique                          24\n",
       "top       3 BHK Apartment for sale\n",
       "freq                          7021\n",
       "Name: Property_Type, dtype: object"
      ]
     },
     "execution_count": 9,
     "metadata": {},
     "output_type": "execute_result"
    }
   ],
   "source": [
    "df2['Property_Type'].describe()"
   ]
  },
  {
   "cell_type": "code",
   "execution_count": 10,
   "id": "0f9d6a64",
   "metadata": {},
   "outputs": [],
   "source": [
    "df2['Property_Type'] = df2['Property_Type'].str.replace(' for sale','',regex=True)"
   ]
  },
  {
   "cell_type": "code",
   "execution_count": 11,
   "id": "5f5cb2ee",
   "metadata": {},
   "outputs": [],
   "source": [
    "df2['BHK number']=df2['Property_Type'].str.replace(r'[^0-9]','',regex=True)\n"
   ]
  },
  {
   "cell_type": "code",
   "execution_count": 12,
   "id": "5d3b4aca",
   "metadata": {},
   "outputs": [
    {
     "data": {
      "text/html": [
       "<div>\n",
       "<style scoped>\n",
       "    .dataframe tbody tr th:only-of-type {\n",
       "        vertical-align: middle;\n",
       "    }\n",
       "\n",
       "    .dataframe tbody tr th {\n",
       "        vertical-align: top;\n",
       "    }\n",
       "\n",
       "    .dataframe thead th {\n",
       "        text-align: right;\n",
       "    }\n",
       "</style>\n",
       "<table border=\"1\" class=\"dataframe\">\n",
       "  <thead>\n",
       "    <tr style=\"text-align: right;\">\n",
       "      <th></th>\n",
       "      <th>Unnamed: 0</th>\n",
       "      <th>Locality</th>\n",
       "      <th>Price_per_sft</th>\n",
       "      <th>Area</th>\n",
       "      <th>Property_Type</th>\n",
       "      <th>BHK number</th>\n",
       "    </tr>\n",
       "  </thead>\n",
       "  <tbody>\n",
       "    <tr>\n",
       "      <th>0</th>\n",
       "      <td>0</td>\n",
       "      <td>Gundlapochampally</td>\n",
       "      <td>4200</td>\n",
       "      <td>1571</td>\n",
       "      <td>3 BHK Apartment</td>\n",
       "      <td>3</td>\n",
       "    </tr>\n",
       "    <tr>\n",
       "      <th>1</th>\n",
       "      <td>1</td>\n",
       "      <td>Ameenpur</td>\n",
       "      <td>5400</td>\n",
       "      <td>1065</td>\n",
       "      <td>2 BHK Apartment</td>\n",
       "      <td>2</td>\n",
       "    </tr>\n",
       "    <tr>\n",
       "      <th>2</th>\n",
       "      <td>2</td>\n",
       "      <td>Patancheru</td>\n",
       "      <td>7700</td>\n",
       "      <td>1930</td>\n",
       "      <td>4 BHK Villa</td>\n",
       "      <td>4</td>\n",
       "    </tr>\n",
       "    <tr>\n",
       "      <th>3</th>\n",
       "      <td>3</td>\n",
       "      <td>Miyapur</td>\n",
       "      <td>6500</td>\n",
       "      <td>1967</td>\n",
       "      <td>3 BHK Apartment</td>\n",
       "      <td>3</td>\n",
       "    </tr>\n",
       "    <tr>\n",
       "      <th>4</th>\n",
       "      <td>4</td>\n",
       "      <td>Uppal Kalan</td>\n",
       "      <td>6104</td>\n",
       "      <td>1065</td>\n",
       "      <td>2 BHK Apartment</td>\n",
       "      <td>2</td>\n",
       "    </tr>\n",
       "  </tbody>\n",
       "</table>\n",
       "</div>"
      ],
      "text/plain": [
       "   Unnamed: 0           Locality  Price_per_sft  Area    Property_Type   \n",
       "0           0  Gundlapochampally           4200  1571  3 BHK Apartment  \\\n",
       "1           1           Ameenpur           5400  1065  2 BHK Apartment   \n",
       "2           2         Patancheru           7700  1930      4 BHK Villa   \n",
       "3           3            Miyapur           6500  1967  3 BHK Apartment   \n",
       "4           4        Uppal Kalan           6104  1065  2 BHK Apartment   \n",
       "\n",
       "  BHK number  \n",
       "0          3  \n",
       "1          2  \n",
       "2          4  \n",
       "3          3  \n",
       "4          2  "
      ]
     },
     "execution_count": 12,
     "metadata": {},
     "output_type": "execute_result"
    }
   ],
   "source": [
    "df2.head()"
   ]
  },
  {
   "cell_type": "code",
   "execution_count": 13,
   "id": "46d3986c",
   "metadata": {},
   "outputs": [
    {
     "data": {
      "text/plain": [
       "array(['3 BHK Apartment', '2 BHK Apartment', '4 BHK Villa',\n",
       "       '4 BHK Apartment', '4 BHK Independent House', '1 BHK Apartment',\n",
       "       '5 BHK Apartment', '3 BHK Independent House', '2 BHK Villa',\n",
       "       '3 BHK Villa', '5 BHK Villa', '2 BHK Independent House',\n",
       "       '1 RK Studio Apartment', '5 BHK Independent House',\n",
       "       '7 BHK Independent House', '10 BHK Independent House',\n",
       "       '8 BHK Independent House', '1 BHK Independent House',\n",
       "       '6 BHK Villa', '6 BHK Independent House',\n",
       "       '9 BHK Independent House', '6 BHK Apartment', '1 BHK Villa',\n",
       "       '10 BHK Apartment'], dtype=object)"
      ]
     },
     "execution_count": 13,
     "metadata": {},
     "output_type": "execute_result"
    }
   ],
   "source": [
    "df2['Property_Type'].unique()"
   ]
  },
  {
   "cell_type": "code",
   "execution_count": 14,
   "id": "18374ce6",
   "metadata": {},
   "outputs": [],
   "source": [
    "df2['Property_Type']=df2['Property_Type'].str.replace('BHK','',regex=True)"
   ]
  },
  {
   "cell_type": "code",
   "execution_count": 15,
   "id": "e93d754e",
   "metadata": {},
   "outputs": [
    {
     "data": {
      "text/plain": [
       "array(['3  Apartment', '2  Apartment', '4  Villa', '4  Apartment',\n",
       "       '4  Independent House', '1  Apartment', '5  Apartment',\n",
       "       '3  Independent House', '2  Villa', '3  Villa', '5  Villa',\n",
       "       '2  Independent House', '1 RK Studio Apartment',\n",
       "       '5  Independent House', '7  Independent House',\n",
       "       '10  Independent House', '8  Independent House',\n",
       "       '1  Independent House', '6  Villa', '6  Independent House',\n",
       "       '9  Independent House', '6  Apartment', '1  Villa',\n",
       "       '10  Apartment'], dtype=object)"
      ]
     },
     "execution_count": 15,
     "metadata": {},
     "output_type": "execute_result"
    }
   ],
   "source": [
    "df2['Property_Type'].unique()"
   ]
  },
  {
   "cell_type": "code",
   "execution_count": 16,
   "id": "b8b95e13",
   "metadata": {},
   "outputs": [],
   "source": [
    "df2['Property_Type']=df2['Property_Type'].str.replace(r'\\d+','',regex=True)"
   ]
  },
  {
   "cell_type": "code",
   "execution_count": 17,
   "id": "dd8d1b7a",
   "metadata": {},
   "outputs": [
    {
     "data": {
      "text/plain": [
       "array(['  Apartment', '  Villa', '  Independent House',\n",
       "       ' RK Studio Apartment'], dtype=object)"
      ]
     },
     "execution_count": 17,
     "metadata": {},
     "output_type": "execute_result"
    }
   ],
   "source": [
    "df2['Property_Type'].unique()"
   ]
  },
  {
   "cell_type": "code",
   "execution_count": 18,
   "id": "c06a4be4",
   "metadata": {},
   "outputs": [
    {
     "data": {
      "text/plain": [
       "Index(['Unnamed: 0', 'Locality', 'Price_per_sft', 'Area', 'Property_Type',\n",
       "       'BHK number'],\n",
       "      dtype='object')"
      ]
     },
     "execution_count": 18,
     "metadata": {},
     "output_type": "execute_result"
    }
   ],
   "source": [
    "df2.columns"
   ]
  },
  {
   "cell_type": "code",
   "execution_count": 19,
   "id": "ec50f081",
   "metadata": {},
   "outputs": [],
   "source": [
    "df2=df2.drop('Unnamed: 0',axis=1)"
   ]
  },
  {
   "cell_type": "code",
   "execution_count": 20,
   "id": "5d7a6767",
   "metadata": {},
   "outputs": [
    {
     "data": {
      "text/plain": [
       "Index(['Locality', 'Price_per_sft', 'Area', 'Property_Type', 'BHK number'], dtype='object')"
      ]
     },
     "execution_count": 20,
     "metadata": {},
     "output_type": "execute_result"
    }
   ],
   "source": [
    "df2.columns"
   ]
  },
  {
   "cell_type": "code",
   "execution_count": 21,
   "id": "7ec84abf",
   "metadata": {},
   "outputs": [],
   "source": [
    "df2.to_csv('HyderabadRealEstate_cleaned.csv')"
   ]
  },
  {
   "cell_type": "code",
   "execution_count": 22,
   "id": "af7f2d8e",
   "metadata": {},
   "outputs": [
    {
     "data": {
      "text/html": [
       "<div>\n",
       "<style scoped>\n",
       "    .dataframe tbody tr th:only-of-type {\n",
       "        vertical-align: middle;\n",
       "    }\n",
       "\n",
       "    .dataframe tbody tr th {\n",
       "        vertical-align: top;\n",
       "    }\n",
       "\n",
       "    .dataframe thead th {\n",
       "        text-align: right;\n",
       "    }\n",
       "</style>\n",
       "<table border=\"1\" class=\"dataframe\">\n",
       "  <thead>\n",
       "    <tr style=\"text-align: right;\">\n",
       "      <th></th>\n",
       "      <th>Locality</th>\n",
       "      <th>Price_per_sft</th>\n",
       "      <th>Area</th>\n",
       "      <th>Property_Type</th>\n",
       "      <th>BHK number</th>\n",
       "    </tr>\n",
       "  </thead>\n",
       "  <tbody>\n",
       "    <tr>\n",
       "      <th>0</th>\n",
       "      <td>Gundlapochampally</td>\n",
       "      <td>4200</td>\n",
       "      <td>1571</td>\n",
       "      <td>Apartment</td>\n",
       "      <td>3</td>\n",
       "    </tr>\n",
       "    <tr>\n",
       "      <th>1</th>\n",
       "      <td>Ameenpur</td>\n",
       "      <td>5400</td>\n",
       "      <td>1065</td>\n",
       "      <td>Apartment</td>\n",
       "      <td>2</td>\n",
       "    </tr>\n",
       "    <tr>\n",
       "      <th>2</th>\n",
       "      <td>Patancheru</td>\n",
       "      <td>7700</td>\n",
       "      <td>1930</td>\n",
       "      <td>Villa</td>\n",
       "      <td>4</td>\n",
       "    </tr>\n",
       "    <tr>\n",
       "      <th>3</th>\n",
       "      <td>Miyapur</td>\n",
       "      <td>6500</td>\n",
       "      <td>1967</td>\n",
       "      <td>Apartment</td>\n",
       "      <td>3</td>\n",
       "    </tr>\n",
       "    <tr>\n",
       "      <th>4</th>\n",
       "      <td>Uppal Kalan</td>\n",
       "      <td>6104</td>\n",
       "      <td>1065</td>\n",
       "      <td>Apartment</td>\n",
       "      <td>2</td>\n",
       "    </tr>\n",
       "  </tbody>\n",
       "</table>\n",
       "</div>"
      ],
      "text/plain": [
       "            Locality  Price_per_sft  Area Property_Type BHK number\n",
       "0  Gundlapochampally           4200  1571     Apartment          3\n",
       "1           Ameenpur           5400  1065     Apartment          2\n",
       "2         Patancheru           7700  1930         Villa          4\n",
       "3            Miyapur           6500  1967     Apartment          3\n",
       "4        Uppal Kalan           6104  1065     Apartment          2"
      ]
     },
     "execution_count": 22,
     "metadata": {},
     "output_type": "execute_result"
    }
   ],
   "source": [
    "df2.head()"
   ]
  },
  {
   "cell_type": "code",
   "execution_count": 23,
   "id": "fb91ceeb",
   "metadata": {},
   "outputs": [
    {
     "ename": "SyntaxError",
     "evalue": "invalid syntax (1118962691.py, line 1)",
     "output_type": "error",
     "traceback": [
      "\u001b[1;36m  Cell \u001b[1;32mIn[23], line 1\u001b[1;36m\u001b[0m\n\u001b[1;33m    sns.\u001b[0m\n\u001b[1;37m        ^\u001b[0m\n\u001b[1;31mSyntaxError\u001b[0m\u001b[1;31m:\u001b[0m invalid syntax\n"
     ]
    }
   ],
   "source": []
  },
  {
   "cell_type": "code",
   "execution_count": null,
   "id": "42dcf630",
   "metadata": {},
   "outputs": [],
   "source": []
  },
  {
   "cell_type": "code",
   "execution_count": null,
   "id": "0251d4d7",
   "metadata": {},
   "outputs": [],
   "source": []
  }
 ],
 "metadata": {
  "kernelspec": {
   "display_name": "Python 3 (ipykernel)",
   "language": "python",
   "name": "python3"
  },
  "language_info": {
   "codemirror_mode": {
    "name": "ipython",
    "version": 3
   },
   "file_extension": ".py",
   "mimetype": "text/x-python",
   "name": "python",
   "nbconvert_exporter": "python",
   "pygments_lexer": "ipython3",
   "version": "3.11.3"
  }
 },
 "nbformat": 4,
 "nbformat_minor": 5
}
